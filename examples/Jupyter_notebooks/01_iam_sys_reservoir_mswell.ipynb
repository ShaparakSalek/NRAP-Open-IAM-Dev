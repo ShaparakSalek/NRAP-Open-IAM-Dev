{
 "cells": [
  {
   "cell_type": "markdown",
   "metadata": {},
   "source": [
    "# Example 1: Analytical reservoir and multisegmented wellbore components."
   ]
  },
  {
   "cell_type": "markdown",
   "metadata": {},
   "source": [
    "This example demonstrates how to couple the analytical reservoir and multisegmented wellbore component models of the NRAP Open-source Integrated Assessment Model (NRAP Open-IAM). The analytical reservoir model is used to simulate the saturation and pressure in a reservoir during a 50-year injection of CO$_2$. The output produced by the analytical reservoir model is used by a single instance of the multisegmented wellbore model to calculate leakage along a nearby well."
   ]
  },
  {
   "cell_type": "markdown",
   "metadata": {},
   "source": [
    "First, we set the backend of matplotlib to the 'inline' backend (specific for Jupyter notebooks) so that result of all plotting commands is displayed inline directly below the code cell that produces it."
   ]
  },
  {
   "cell_type": "code",
   "execution_count": 1,
   "metadata": {},
   "outputs": [],
   "source": [
    "%matplotlib inline"
   ]
  },
  {
   "cell_type": "markdown",
   "metadata": {},
   "source": [
    "#### 1) Import the standard and third party needed libraries."
   ]
  },
  {
   "cell_type": "code",
   "execution_count": 2,
   "metadata": {},
   "outputs": [],
   "source": [
    "import sys\n",
    "import os\n",
    "sys.path.insert(0, os.sep.join(['..', '..', 'source']))\n",
    "import matplotlib.pyplot as plt\n",
    "import numpy as np"
   ]
  },
  {
   "cell_type": "markdown",
   "metadata": {},
   "source": [
    "#### 2) Import classes of OpenIAM utilized in the example."
   ]
  },
  {
   "cell_type": "code",
   "execution_count": 3,
   "metadata": {},
   "outputs": [],
   "source": [
    "from openiam import SystemModel, AnalyticalReservoir, MultisegmentedWellbore"
   ]
  },
  {
   "cell_type": "markdown",
   "metadata": {},
   "source": [
    "#### 3) Define parameters of the system model and create it."
   ]
  },
  {
   "cell_type": "code",
   "execution_count": 4,
   "metadata": {},
   "outputs": [
    {
     "name": "stdout",
     "output_type": "stream",
     "text": [
      "System model time points (in years):\n",
      " [ 0.  1.  2.  3.  4.  5.  6.  7.  8.  9. 10. 11. 12. 13. 14. 15. 16. 17. 18. 19. 20. 21. 22. 23. 24. 25. 26. 27. 28. 29. 30. 31. 32. 33. 34. 35. 36. 37. 38. 39. 40. 41. 42. 43. 44. 45. 46. 47. 48. 49. 50.]\n"
     ]
    }
   ],
   "source": [
    "# Define keyword arguments of the system model\n",
    "num_years = 50\n",
    "time_array = 365.25*np.arange(0.0, num_years+1)\n",
    "print('System model time points (in years):\\n', time_array/365.25)\n",
    "# For system model setup time is provided in days\n",
    "sm_model_kwargs = {'time_array': time_array}"
   ]
  },
  {
   "cell_type": "code",
   "execution_count": 5,
   "metadata": {
    "scrolled": true
   },
   "outputs": [],
   "source": [
    "# Create system model\n",
    "sm = SystemModel(model_kwargs=sm_model_kwargs)"
   ]
  },
  {
   "cell_type": "markdown",
   "metadata": {},
   "source": [
    "In the following steps we add components of the system model and define their input and output. The components are created and added to the system model in the order they are supposed to be run.\n",
    "\n",
    "#### 4) Add reservoir component since its observations serve as input for the multisegmented wellbore component.\n",
    "The addition of a reservoir component requires:\n",
    " - creation of the model object;\n",
    " - addition of necessary model parameters;\n",
    " - addition of observations that will be used by analysis or plotting;\n",
    " - identification of observations that will be used by and \"linked\" to other model components."
   ]
  },
  {
   "cell_type": "code",
   "execution_count": 6,
   "metadata": {},
   "outputs": [],
   "source": [
    "# Add reservoir component\n",
    "ares = sm.add_component_model_object(AnalyticalReservoir(name='ares', parent=sm))"
   ]
  },
  {
   "cell_type": "code",
   "execution_count": 7,
   "metadata": {},
   "outputs": [],
   "source": [
    "# Add parameters of reservoir component model\n",
    "ares.add_par('numberOfShaleLayers', value=3, vary=False)\n",
    "ares.add_par('shale1Thickness', min=30.0, max=150., value=45.0)\n",
    "ares.add_par('aquifer1Thickness', min=100.0, max=500.0, value=300.0)\n",
    "ares.add_par('injRate', min=0.1, max=10.0, value=1.0)\n",
    "ares.add_par('reservoirRadius', value=2500, vary=False)"
   ]
  },
  {
   "cell_type": "code",
   "execution_count": 8,
   "metadata": {},
   "outputs": [],
   "source": [
    "# Add observations of reservoir component model \n",
    "# that are to be used by other components\n",
    "ares.add_obs_to_be_linked('pressure')\n",
    "ares.add_obs_to_be_linked('CO2saturation')"
   ]
  },
  {
   "cell_type": "code",
   "execution_count": 9,
   "metadata": {},
   "outputs": [],
   "source": [
    "# Add observations of reservoir component model \n",
    "# that are to be used by analysis or plotting\n",
    "ares.add_obs('pressure')\n",
    "ares.add_obs('CO2saturation')\n",
    "ares.add_obs('mass_CO2_reservoir')"
   ]
  },
  {
   "cell_type": "markdown",
   "metadata": {},
   "source": [
    "#### 5) Add the multisegmented wellbore component.\n",
    "Adding a wellbore component is more complex than adding an analytical reservoir component. The setup requires:\n",
    "- creation of the model object;\n",
    "- addition of model parameters;\n",
    "- linking of the parameters shared by the reservoir and wellbore components back to the reservoir component;\n",
    "- linking of needed inputs from observations of the reservoir component. "
   ]
  },
  {
   "cell_type": "code",
   "execution_count": 10,
   "metadata": {},
   "outputs": [],
   "source": [
    "# Add multisegmented wellbore component\n",
    "ms = sm.add_component_model_object(MultisegmentedWellbore(name='ms',parent=sm))"
   ]
  },
  {
   "cell_type": "code",
   "execution_count": 11,
   "metadata": {},
   "outputs": [],
   "source": [
    "# Add parameters of multisegmented wellbore component\n",
    "ms.add_par('wellRadius', min=0.01, max=0.02, value=0.015)\n",
    "ms.add_par('logWellPerm', min=-14.0, max=-12.0, value=-13.0)"
   ]
  },
  {
   "cell_type": "code",
   "execution_count": 12,
   "metadata": {},
   "outputs": [],
   "source": [
    "# Add linked parameters: common to reservoir and wellbore components\n",
    "ms.add_par_linked_to_par('numberOfShaleLayers', \n",
    "                         ares.deterministic_pars['numberOfShaleLayers'])\n",
    "ms.add_par_linked_to_par('shale1Thickness', \n",
    "                         ares.pars['shale1Thickness'])\n",
    "ms.add_par_linked_to_par('shale2Thickness', \n",
    "                         ares.default_pars['shaleThickness'])\n",
    "ms.add_par_linked_to_par('shale3Thickness', \n",
    "                         ares.default_pars['shaleThickness'])\n",
    "ms.add_par_linked_to_par('aquifer1Thickness', \n",
    "                         ares.pars['aquifer1Thickness'])\n",
    "ms.add_par_linked_to_par('aquifer2Thickness', \n",
    "                         ares.default_pars['aquiferThickness'])\n",
    "ms.add_par_linked_to_par('reservoirThickness', \n",
    "                         ares.default_pars['reservoirThickness'])\n",
    "ms.add_par_linked_to_par('datumPressure', \n",
    "                         ares.default_pars['datumPressure'])"
   ]
  },
  {
   "cell_type": "code",
   "execution_count": 13,
   "metadata": {},
   "outputs": [],
   "source": [
    "# Add keyword arguments linked to the output provided by reservoir model\n",
    "ms.add_kwarg_linked_to_obs('pressure', ares.linkobs['pressure'])\n",
    "ms.add_kwarg_linked_to_obs('CO2saturation', ares.linkobs['CO2saturation'])"
   ]
  },
  {
   "cell_type": "code",
   "execution_count": 14,
   "metadata": {},
   "outputs": [],
   "source": [
    "# Add observations of multisegmented wellbore component model\n",
    "ms.add_obs('brine_aquifer1')  # leakage rates of brine through well to aquifer 1\n",
    "ms.add_obs('CO2_aquifer1')    # leakage rates of CO2 through well to aquifer 1"
   ]
  },
  {
   "cell_type": "markdown",
   "metadata": {},
   "source": [
    "#### 6) Run simulation."
   ]
  },
  {
   "cell_type": "code",
   "execution_count": 15,
   "metadata": {},
   "outputs": [],
   "source": [
    "# Run system model using current values of its parameters\n",
    "forward_simulation_results = sm.forward()  # system model is run deterministically"
   ]
  },
  {
   "cell_type": "markdown",
   "metadata": {},
   "source": [
    "#### 7) Collect observations."
   ]
  },
  {
   "cell_type": "code",
   "execution_count": 16,
   "metadata": {},
   "outputs": [],
   "source": [
    "# Collect observations from the system model\n",
    "pressure = sm.collect_observations_as_time_series(ares, 'pressure')\n",
    "CO2_saturation = sm.collect_observations_as_time_series(ares, 'CO2saturation')\n",
    "CO2_aquifer1 = sm.collect_observations_as_time_series(ms, 'CO2_aquifer1')\n",
    "brine_aquifer1 = sm.collect_observations_as_time_series(ms, 'brine_aquifer1')"
   ]
  },
  {
   "cell_type": "markdown",
   "metadata": {},
   "source": [
    "#### 8) Print simulation results.\n",
    "Results include:\n",
    "- pressure and CO$_2$ saturation at the bottom of the well;\n",
    "- predicted leakage rates of brine and CO$_2$ through the well.\n"
   ]
  },
  {
   "cell_type": "code",
   "execution_count": 17,
   "metadata": {},
   "outputs": [
    {
     "name": "stdout",
     "output_type": "stream",
     "text": [
      "------------------------------------------------------------------\n",
      "                  Results of forward simulation                   \n",
      "------------------------------------------------------------------\n",
      "Pressure\n",
      "[9.77907000e+06 1.53457058e+08 1.55635835e+08 1.56910337e+08 1.57814611e+08 1.58516021e+08 1.59089114e+08 1.59573657e+08 1.59993388e+08 1.58070459e+08 1.56276214e+08 1.54653122e+08 1.53171355e+08 1.51808261e+08 1.50546233e+08 1.49371314e+08 1.48272250e+08 1.47239838e+08 1.46266455e+08 1.45345713e+08 1.44472209e+08 1.43641333e+08 1.42849117e+08 1.42092122e+08 1.41367350e+08 1.40672169e+08 1.40004256e+08 1.39361555e+08 1.38742229e+08 1.38144639e+08 1.37567309e+08 1.37008912e+08 1.36468246e+08 1.35944217e+08 1.35435834e+08 1.34942188e+08 1.34462450e+08 1.33995857e+08 1.33541708e+08 1.33099356e+08 1.32668205e+08 1.32247700e+08 1.31837329e+08 1.31436614e+08 1.31045113e+08 1.30662409e+08 1.30288118e+08 1.29921876e+08 1.29563346e+08 1.29212208e+08 1.28868164e+08]\n",
      "------------------------------------------------------------------\n",
      "CO2 saturation\n",
      "[0. 1. 1. 1. 1. 1. 1. 1. 1. 1. 1. 1. 1. 1. 1. 1. 1. 1. 1. 1. 1. 1. 1. 1. 1. 1. 1. 1. 1. 1. 1. 1. 1. 1. 1. 1. 1. 1. 1. 1. 1. 1. 1. 1. 1. 1. 1. 1. 1. 1. 1.]\n",
      "------------------------------------------------------------------\n",
      "CO2 leakage rates to aquifer 1\n",
      "[0.         0.00275233 0.00279202 0.00281633 0.00283358 0.00284696 0.00285789 0.00286713 0.00287513 0.00283849 0.0028043  0.00277337 0.00274514 0.00271917 0.00269512 0.00267273 0.00265179 0.00263211 0.00261357 0.00259602 0.00257938 0.00256354 0.00254845 0.00253402 0.00252021 0.00250696 0.00249424 0.00248199 0.00247019 0.0024588  0.0024478  0.00243716 0.00242686 0.00241687 0.00240718 0.00239778 0.00238863 0.00237974 0.00237109 0.00236266 0.00235444 0.00234643 0.00233861 0.00233098 0.00232351 0.00231622 0.00230909 0.00230211 0.00229528 0.00228859 0.00228203]\n",
      "------------------------------------------------------------------\n",
      "Brine leakage rates to aquifer 1\n",
      "[0. 0. 0. 0. 0. 0. 0. 0. 0. 0. 0. 0. 0. 0. 0. 0. 0. 0. 0. 0. 0. 0. 0. 0. 0. 0. 0. 0. 0. 0. 0. 0. 0. 0. 0. 0. 0. 0. 0. 0. 0. 0. 0. 0. 0. 0. 0. 0. 0. 0. 0.]\n",
      "------------------------------------------------------------------\n"
     ]
    }
   ],
   "source": [
    "# Print observations\n",
    "print('------------------------------------------------------------------')\n",
    "print('                  Results of forward simulation                   ')\n",
    "print('------------------------------------------------------------------')\n",
    "print('Pressure', pressure, sep='\\n')\n",
    "print('------------------------------------------------------------------')\n",
    "print('CO2 saturation', CO2_saturation, sep='\\n')\n",
    "print('------------------------------------------------------------------')\n",
    "print('CO2 leakage rates to aquifer 1', CO2_aquifer1, sep='\\n')\n",
    "print('------------------------------------------------------------------')\n",
    "print('Brine leakage rates to aquifer 1', brine_aquifer1, sep='\\n')\n",
    "print('------------------------------------------------------------------')"
   ]
  },
  {
   "cell_type": "markdown",
   "metadata": {},
   "source": [
    "#### 9) Create figures.\n",
    "\n",
    "The following figure shows the evolution of the system model observations in time."
   ]
  },
  {
   "cell_type": "code",
   "execution_count": 18,
   "metadata": {},
   "outputs": [
    {
     "data": {
      "image/png": "[encoded data removed]",
      "text/plain": [
       "<Figure size 864x576 with 4 Axes>"
      ]
     },
     "metadata": {
      "needs_background": "light"
     },
     "output_type": "display_data"
    }
   ],
   "source": [
    "# Create figure\n",
    "fig, axes = plt.subplots(2, 2, figsize=(12, 8))\n",
    "\n",
    "# Define figure parameters\n",
    "line_width = 1\n",
    "label_font_size = 14\n",
    "tick_font_size = 12\n",
    "\n",
    "# Add first subplot\n",
    "axes[0, 0].plot(time_array[0:]/365.25, pressure/1.0e+6, \n",
    "               '-r', linewidth=line_width)\n",
    "axes[0, 0].set_xlabel('Time, t [years]', fontsize=label_font_size)\n",
    "axes[0, 0].set_ylabel(r'Pressure, P [MPa]', fontsize=label_font_size)\n",
    "axes[0, 0].tick_params(labelsize=tick_font_size)\n",
    "\n",
    "# Add second subplot\n",
    "axes[0, 1].plot(time_array[0:]/365.25, CO2_saturation, \n",
    "               '-r', linewidth=line_width)\n",
    "axes[0, 1].set_xlabel('Time, t [years]', fontsize=label_font_size)\n",
    "axes[0, 1].set_ylabel(r'CO$_2$ saturation, S [-]', fontsize=label_font_size)\n",
    "axes[0, 1].tick_params(labelsize=tick_font_size)\n",
    "\n",
    "# Add third subplot\n",
    "axes[1, 0].plot(time_array[0:]/365.25, CO2_aquifer1, \n",
    "               '-b', linewidth=line_width)\n",
    "axes[1, 0].set_xlabel('Time, t [years]', fontsize=label_font_size)\n",
    "axes[1, 0].set_ylabel(r'Leakage rates, Q$_{CO_2}$ [kg/s]', fontsize=label_font_size)\n",
    "axes[1, 0].tick_params(labelsize=tick_font_size)\n",
    "\n",
    "# Add fourth subplot\n",
    "axes[1, 1].plot(time_array[0:]/365.25, brine_aquifer1, \n",
    "               '-b', linewidth=line_width)\n",
    "axes[1, 1].set_xlabel('Time, t [years]', fontsize=label_font_size)\n",
    "axes[1, 1].set_ylabel(r'Leakage rates, Q$_{brine}$ [kg/s]', fontsize=label_font_size)\n",
    "axes[1, 1].tick_params(labelsize=tick_font_size)\n",
    "\n",
    "# Align y-labels of subplots\n",
    "fig.align_ylabels()\n",
    "\n",
    "# Adjust width space between subplots\n",
    "plt.subplots_adjust(wspace=0.4)"
   ]
  }
 ],
 "metadata": {
  "kernelspec": {
   "display_name": "Python 3 (ipykernel)",
   "language": "python",
   "name": "python3"
  },
  "language_info": {
   "codemirror_mode": {
    "name": "ipython",
    "version": 3
   },
   "file_extension": ".py",
   "mimetype": "text/x-python",
   "name": "python",
   "nbconvert_exporter": "python",
   "pygments_lexer": "ipython3",
   "version": "3.9.7"
  }
 },
 "nbformat": 4,
 "nbformat_minor": 2
}
