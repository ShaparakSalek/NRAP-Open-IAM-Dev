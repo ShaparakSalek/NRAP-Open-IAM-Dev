{
 "cells": [
  {
   "cell_type": "markdown",
   "metadata": {},
   "source": [
    "# Example 9: Editing and Running Control File in Jupyter Notebook"
   ]
  },
  {
   "cell_type": "markdown",
   "metadata": {},
   "source": [
    "This example demonstrates how Jupyter Notebook can be used for editing and running control file examples for NRAP-Open-IAM. "
   ]
  },
  {
   "cell_type": "markdown",
   "metadata": {},
   "source": [
    "#### 1) Import the standard and third party needed libraries."
   ]
  },
  {
   "cell_type": "code",
   "execution_count": null,
   "metadata": {},
   "outputs": [],
   "source": [
    "import sys\n",
    "import os\n",
    "import yaml\n",
    "sys.path.insert(0, os.sep.join(['..', '..', 'source']))\n",
    "import numpy as np"
   ]
  },
  {
   "cell_type": "markdown",
   "metadata": {},
   "source": [
    "#### 2) Load yamlmagic package. \n",
    "The package provides methods of creating python variables using yaml syntax in Jupyter Notebook cells."
   ]
  },
  {
   "cell_type": "code",
   "execution_count": null,
   "metadata": {},
   "outputs": [],
   "source": [
    "%load_ext yamlmagic"
   ]
  },
  {
   "cell_type": "markdown",
   "metadata": {},
   "source": [
    "#### 3) Copy content of the control file of interest (starting from line 3) and edit as necessary. \n",
    "Variable cfi_yaml_data of type dictionary will be created and will hold the dictionary \"representation of a control file.\" The content of the control file below is based on the Control File Example 1 with some minor modifications. In particular, the output directory specified in the section ModelParams/OutputDirectory is changed to not depend on the date and time."
   ]
  },
  {
   "cell_type": "code",
   "execution_count": null,
   "metadata": {},
   "outputs": [],
   "source": [
    "%%yaml cfi_yaml_data\n",
    "\n",
    "ModelParams:\n",
    "    # Time is in years\n",
    "    EndTime: 10\n",
    "    TimeStep: 1.0\n",
    "    Analysis: forward\n",
    "    Components: [SimpleReservoir1,\n",
    "                 CementedWellbore1]\n",
    "    OutputDirectory: output/output_ex_cfi_jupyter\n",
    "    OutputType: 1  # 0 - row-wise; 1 - column-wise\n",
    "    Logging: Debug\n",
    "#-------------------------------------------------\n",
    "Stratigraphy:\n",
    "    numberOfShaleLayers:\n",
    "        vary: False\n",
    "        value: 3\n",
    "    # Thickness is in meters\n",
    "    shale1Thickness:\n",
    "        vary: False\n",
    "        value: 525.0\n",
    "    shale2Thickness:\n",
    "        vary: False\n",
    "        value: 475.0\n",
    "    shale3Thickness:\n",
    "        vary: False\n",
    "        value: 11.2\n",
    "    aquifer1Thickness:\n",
    "        vary: False\n",
    "        value: 22.4\n",
    "    aquifer2Thickness:\n",
    "        vary: False\n",
    "        value: 19.2\n",
    "    reservoirThickness:\n",
    "        vary: False\n",
    "        value: 51.2\n",
    "# All coordinates are in meters.\n",
    "# With the SimpleReservoir the default injection location is at (0, 0)\n",
    "#-------------------------------------------------\n",
    "# SimpleReservoir1 is a user defined name for component\n",
    "# the type SimpleReservoir is the ROM model name\n",
    "#-------------------------------------------------\n",
    "SimpleReservoir1:\n",
    "    Type: SimpleReservoir\n",
    "    InjectionWell:\n",
    "        coordx: 10\n",
    "        coordy: 20\n",
    "    Parameters:\n",
    "        injRate: 0.1\n",
    "    Outputs: [pressure,\n",
    "              CO2saturation]\n",
    "#-------------------------------------------------\n",
    "# Here, 4 leaky wellbores are added using the Cemented wellbore model.\n",
    "# Two of the wellbores have predetermined locations; locations of another two\n",
    "# wellbores will be generated randomly within the specified domain.\n",
    "#-------------------------------------------------\n",
    "CementedWellbore1:\n",
    "    Type: CementedWellbore\n",
    "    Connection: SimpleReservoir1\n",
    "    Number: 4\n",
    "    Locations:\n",
    "        coordx: [100, 540]\n",
    "        coordy: [100, 630]\n",
    "    RandomLocDomain:\n",
    "        xmin: 150\n",
    "        xmax: 250\n",
    "        ymin: 200\n",
    "        ymax: 300\n",
    "    Parameters:\n",
    "        logWellPerm:\n",
    "            vary: False\n",
    "            value: -13.0\n",
    "    Outputs: [CO2_aquifer1,\n",
    "              CO2_aquifer2,\n",
    "              CO2_atm,\n",
    "              brine_aquifer1,\n",
    "              brine_aquifer2]\n",
    "#-------------------------------------------------\n",
    "# Time-series plots of the output observations are\n",
    "# specified in the next section.\n",
    "#-------------------------------------------------\n",
    "Plots:\n",
    "    #------------------------------------------------------\n",
    "    # The following commands will plot the CO2 leakage\n",
    "    # rates to both aquifers.  The plots will be given\n",
    "    # the names 'CO2_Leakage1' and 'CO2_Leakage2' and saved as 'CO2_Leakage1.png'\n",
    "    # and 'CO2_Leakage2.png' respectively in the output directory.\n",
    "    #------------------------------------------------------\n",
    "    CO2_Leakage1:\n",
    "        TimeSeries: [CO2_aquifer1]\n",
    "        Subplot:\n",
    "            NumCols: 2\n",
    "            Use: True\n",
    "    CO2_Leakage2:\n",
    "        TimeSeries: [CO2_aquifer2]\n",
    "        Subplot:\n",
    "            NumCols: 2\n",
    "            Use: True\n",
    "    #------------------------------------------------------\n",
    "    # Next do the same thing for the pressure at the base\n",
    "    # of the leaky wellbores.\n",
    "    # A custom title and subtitles for each subplot are added to the produced figure.\n",
    "    #------------------------------------------------------\n",
    "    Pressure_plot:\n",
    "        FigureDPI: 300\n",
    "        TimeSeries: [pressure]\n",
    "        Subplot:\n",
    "            NumCols: 2\n",
    "            Use: True\n",
    "            SimpleReservoir1_000.pressure: 'Pressure at well 1'   # the '' are required because the number\n",
    "            SimpleReservoir1_001.pressure: 'Pressure at well 2'   # would be silenced by the # and excluded\n",
    "            SimpleReservoir1_002.pressure: 'Pressure at well 3'\n",
    "            SimpleReservoir1_003.pressure: 'Pressure at well 4'\n",
    "        Title: Reservoir Pressure at Wellbore Location\n"
   ]
  },
  {
   "cell_type": "markdown",
   "metadata": {},
   "source": [
    "#### 4) Print data saved in the variable cfi_yaml_data.\n",
    "This step is provided here only for illustration purposes."
   ]
  },
  {
   "cell_type": "code",
   "execution_count": null,
   "metadata": {},
   "outputs": [],
   "source": [
    "print(cfi_yaml_data)"
   ]
  },
  {
   "cell_type": "markdown",
   "metadata": {},
   "source": [
    "#### 5) Setup necessary folders to save dictionary data into yaml file.\n",
    "In this step we save the updated data in the dictionary above into the yaml control file."
   ]
  },
  {
   "cell_type": "code",
   "execution_count": null,
   "metadata": {},
   "outputs": [],
   "source": [
    "# Setup output directory where the control file will be saved\n",
    "output_directory = os.sep.join(['..', '..', 'output'])\n",
    "# Define name of the file \n",
    "file_name = 'cfi_example_for_jupyter_notebook.yaml'\n",
    "file_path = os.path.join(output_directory, file_name)\n",
    "with open(file_path, 'w') as f:\n",
    "    yaml.dump(cfi_yaml_data, f, default_flow_style=True, explicit_start=True)\n",
    "# Print useful message\n",
    "print('Scenario setup is saved into the control file {} in the folder {}'.format(\n",
    "    file_name, output_directory))"
   ]
  },
  {
   "cell_type": "markdown",
   "metadata": {},
   "source": [
    "#### 6) Setup folders and files needed to run the just saved control file.\n",
    "Once the execution of the control file has started we'll see several messages providing some useful information about the file run and produced outputs, including figures (if applicable)."
   ]
  },
  {
   "cell_type": "code",
   "execution_count": null,
   "metadata": {},
   "outputs": [],
   "source": [
    "# Setup source directory for NRAP-Open-IAM\n",
    "SOURCE_DIR = os.sep.join(['..', '..', 'source'])\n",
    "# Setup path to the control files driver\n",
    "run_file = os.path.join(SOURCE_DIR, 'openiam', 'openiam_cf.py')\n",
    "# Setup command to be executed\n",
    "run_command = '\"{0}\" --file \"{1}\"'.format(run_file, file_path)\n",
    "# Run control file\n",
    "%run -i $run_command"
   ]
  },
  {
   "cell_type": "markdown",
   "metadata": {},
   "source": [
    "#### 7) Setup needed to display produced figures within the Jupyter Notebook."
   ]
  },
  {
   "cell_type": "markdown",
   "metadata": {},
   "source": [
    "We set the backend of matplotlib to the 'inline' backend (specific to Jupyter notebooks) so that result of all plotting commands is displayed inline directly below the code cell that produces it. We're going to use matplotlib to display figures created for a given control file example. We can also find produced figures in the folder printed above and specified in the section ModelParams/OutputDirectory of the control file setup."
   ]
  },
  {
   "cell_type": "code",
   "execution_count": null,
   "metadata": {},
   "outputs": [],
   "source": [
    "%matplotlib inline"
   ]
  },
  {
   "cell_type": "code",
   "execution_count": null,
   "metadata": {},
   "outputs": [],
   "source": [
    "# Import additional modules from matplotlib\n",
    "import matplotlib.pyplot as plt\n",
    "import matplotlib.image as mpimg"
   ]
  },
  {
   "cell_type": "code",
   "execution_count": null,
   "metadata": {},
   "outputs": [],
   "source": [
    "# List of files in the output directory\n",
    "file_list = next(os.walk('C:\\\\development\\\\OpenIAMDev\\\\{}'.format(\n",
    "    cfi_yaml_data['ModelParams']['OutputDirectory'])))[2]"
   ]
  },
  {
   "cell_type": "code",
   "execution_count": null,
   "metadata": {},
   "outputs": [],
   "source": [
    "# Cycle over files in the output folder and check for *.png files\n",
    "find = 0\n",
    "for fname in file_list:\n",
    "    if fname[-4:].lower() == '.png':\n",
    "        find += 1\n",
    "        file_path = os.sep.join(['..', '..', 'output', 'output_ex_cfi_jupyter', fname])\n",
    "\n",
    "        check_for_figure = os.path.exists(file_path)\n",
    "\n",
    "        if check_for_figure:\n",
    "            img = mpimg.imread(file_path)\n",
    "\n",
    "            # fig, ax = subplots(figsize=(20, 16))\n",
    "            fig = plt.figure(find + 1, figsize=(15, 12), dpi=300)\n",
    "            ax = plt.gca()\n",
    "\n",
    "            ax.imshow(img)\n",
    "            \n",
    "            # Remove ticks from imshow, the figure file has its own ticks\n",
    "            ax.axes.get_xaxis().set_ticks([])\n",
    "            ax.axes.get_yaxis().set_ticks([])\n",
    "        \n",
    "            # Remove spline added by imshow\n",
    "            plt.setp(ax.spines.values(), alpha = 0)"
   ]
  },
  {
   "cell_type": "code",
   "execution_count": null,
   "metadata": {},
   "outputs": [],
   "source": []
  }
 ],
 "metadata": {
  "kernelspec": {
   "display_name": "Python 3 (ipykernel)",
   "language": "python",
   "name": "python3"
  },
  "language_info": {
   "codemirror_mode": {
    "name": "ipython",
    "version": 3
   },
   "file_extension": ".py",
   "mimetype": "text/x-python",
   "name": "python",
   "nbconvert_exporter": "python",
   "pygments_lexer": "ipython3",
   "version": "3.9.7"
  }
 },
 "nbformat": 4,
 "nbformat_minor": 2
}
